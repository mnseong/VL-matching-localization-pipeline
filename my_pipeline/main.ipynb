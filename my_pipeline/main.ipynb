{
 "cells": [
  {
   "cell_type": "code",
   "execution_count": 16,
   "id": "71995697-c4ca-4c99-99c3-d74515600429",
   "metadata": {},
   "outputs": [],
   "source": [
    "import os\n",
    "import datetime\n",
    "import shutil\n",
    "import logging\n",
    "import yaml\n",
    "import importlib\n",
    "import time\n",
    "from path import Path\n",
    "from abc import ABC, abstractmethod\n",
    "from PIL import Image as Im\n",
    "import numpy as np\n",
    "import torch.nn.functional as F\n",
    "import tqdm\n",
    "\n",
    "from matplotlib.colors import ListedColormap, LinearSegmentedColormap\n",
    "from matplotlib import cm\n",
    "\n",
    "import torch\n",
    "from tensorboardX import SummaryWriter\n",
    "\n",
    "import torch.distributed as dist\n",
    "from torch.utils.data.distributed import DistributedSampler\n",
    "\n",
    "import dataloader\n",
    "from dataloader import aachen_loader\n",
    "\n",
    "from feature_descriptors import backbone\n",
    "from feature_descriptors import detection_net\n",
    "# from feature_descriptors import my_model\n",
    "\n",
    "from tqdm import tqdm\n",
    "import cv2\n",
    "import copy\n",
    "import matplotlib\n",
    "import matplotlib.pyplot as plt"
   ]
  },
  {
   "cell_type": "code",
   "execution_count": 17,
   "id": "21d4a112-1d12-4daf-bc6e-250058e3fd7a",
   "metadata": {},
   "outputs": [],
   "source": [
    "dataloader = aachen_loader.Aachen_Day_Night()"
   ]
  },
  {
   "cell_type": "code",
   "execution_count": 18,
   "id": "43d37495-ef51-4af9-b526-ec4e8de29e2b",
   "metadata": {},
   "outputs": [
    {
     "data": {
      "text/plain": [
       "<dataloader.aachen_loader.Aachen_Day_Night at 0x7fabe076d2e0>"
      ]
     },
     "execution_count": 18,
     "metadata": {},
     "output_type": "execute_result"
    }
   ],
   "source": [
    "dataloader"
   ]
  },
  {
   "cell_type": "code",
   "execution_count": 19,
   "id": "6f61db97-3700-4384-9534-a1157f3b2b7f",
   "metadata": {},
   "outputs": [
    {
     "data": {
      "text/plain": [
       "7712"
      ]
     },
     "execution_count": 19,
     "metadata": {},
     "output_type": "execute_result"
    }
   ],
   "source": [
    "len(dataloader)"
   ]
  },
  {
   "cell_type": "code",
   "execution_count": 20,
   "id": "da6f6331-3dd9-49fe-baa7-0f58413ae93d",
   "metadata": {},
   "outputs": [],
   "source": [
    "net1 = backbone.ResUNet_F2R().to(\"cuda\")\n",
    "net2 = detection_net.DetNet(net1, 128).to(\"cuda\")"
   ]
  },
  {
   "cell_type": "code",
   "execution_count": 21,
   "id": "dd552e99-9e2c-4a54-8ca2-bdd7f729bce5",
   "metadata": {},
   "outputs": [],
   "source": [
    "def opencv_rainbow(resolution=1000):\n",
    "    # Construct the opencv equivalent of Rainbow\n",
    "    opencv_rainbow_data = (\n",
    "        (0.000, (1.00, 0.00, 0.00)),\n",
    "        (0.400, (1.00, 1.00, 0.00)),\n",
    "        (0.600, (0.00, 1.00, 0.00)),\n",
    "        (0.800, (0.00, 0.00, 1.00)),\n",
    "        (1.000, (0.60, 0.00, 1.00))\n",
    "    )\n",
    "\n",
    "    return LinearSegmentedColormap.from_list('opencv_rainbow', opencv_rainbow_data, resolution)"
   ]
  },
  {
   "cell_type": "code",
   "execution_count": 22,
   "id": "ad17c670-42dd-4565-999b-f5fc72ad99b7",
   "metadata": {},
   "outputs": [],
   "source": [
    "def high_res_colormap(low_res_cmap, resolution=1000, max_value=1):\n",
    "    # Construct the list colormap, with interpolated values for higer resolution\n",
    "    # For a linear segmented colormap, you can just specify the number of point in\n",
    "    # cm.get_cmap(name, lutsize) with the parameter lutsize\n",
    "    x = np.linspace(0, 1, low_res_cmap.N)\n",
    "    low_res = low_res_cmap(x)\n",
    "    new_x = np.linspace(0, max_value, resolution)\n",
    "    high_res = np.stack([np.interp(new_x, x, low_res[:, i]) for i in range(low_res.shape[1])], axis=1)\n",
    "    return ListedColormap(high_res)"
   ]
  },
  {
   "cell_type": "code",
   "execution_count": 23,
   "id": "2654af92-0b74-4794-95f5-3dd1ee42770e",
   "metadata": {},
   "outputs": [
    {
     "name": "stderr",
     "output_type": "stream",
     "text": [
      "/tmp/ipykernel_908014/3076831541.py:2: MatplotlibDeprecationWarning: The get_cmap function was deprecated in Matplotlib 3.7 and will be removed two minor releases later. Use ``matplotlib.colormaps[name]`` or ``matplotlib.colormaps.get_cmap(obj)`` instead.\n",
      "  'magma': high_res_colormap(cm.get_cmap('magma')),\n",
      "/tmp/ipykernel_908014/3076831541.py:3: MatplotlibDeprecationWarning: The get_cmap function was deprecated in Matplotlib 3.7 and will be removed two minor releases later. Use ``matplotlib.colormaps[name]`` or ``matplotlib.colormaps.get_cmap(obj)`` instead.\n",
      "  'bone': cm.get_cmap('bone', 10000)}\n"
     ]
    }
   ],
   "source": [
    "COLORMAPS = {'rainbow': opencv_rainbow(),\n",
    "             'magma': high_res_colormap(cm.get_cmap('magma')),\n",
    "             'bone': cm.get_cmap('bone', 10000)}"
   ]
  },
  {
   "cell_type": "code",
   "execution_count": 24,
   "id": "8ad7bc49-ea14-4783-b551-92a9e086df3f",
   "metadata": {},
   "outputs": [],
   "source": [
    "def tensor2array(tensor, max_value=None, colormap='rainbow'):\n",
    "    tensor = tensor.detach().cpu()\n",
    "    if max_value is None:\n",
    "        max_value = tensor[tensor < np.inf].max().item()\n",
    "    if tensor.ndimension() == 2 or tensor.size(0) == 1:\n",
    "        norm_array = tensor.squeeze().numpy()/max_value\n",
    "        norm_array[norm_array == np.inf] = np.nan\n",
    "        array = COLORMAPS[colormap](norm_array).astype(np.float32)\n",
    "        array = array.transpose(2, 0, 1)[:3]\n",
    "\n",
    "    elif tensor.ndimension() == 3:\n",
    "        assert(tensor.size(0) == 3)\n",
    "        array = 0.5 + tensor.numpy()*0.5\n",
    "    return array"
   ]
  },
  {
   "cell_type": "code",
   "execution_count": 27,
   "id": "af8b24ec-f689-480e-bed6-c2303f17676e",
   "metadata": {},
   "outputs": [],
   "source": [
    "def extractor():\n",
    "    bar = tqdm(dataloader, total=int(len(dataloader)), ncols=80)\n",
    "    color = np.array(range(256)).astype(np.float64)[None,:].repeat(30, axis=0)\n",
    "    color = np.concatenate([np.zeros((30,20)),255*np.ones((30,20)),color], axis=1)\n",
    "    color = tensor2array(torch.tensor(color))[:3,:,:].transpose(1,2,0)\n",
    "    color = Im.fromarray((255*color).astype(np.uint8))\n",
    "    color.save('img_file/0_colorbar.jpg')\n",
    "    name_list = ''\n",
    "    \n",
    "    for idx, inputs in enumerate(bar):\n",
    "        for key, val in inputs.items():\n",
    "            if key == 'name1' or key == 'pad1':\n",
    "                continue\n",
    "            inputs[key] = val.to(\"cuda\")\n",
    "        message = inputs['name1'][0]\n",
    "        print(inputs['im1'].shape)\n",
    "        print(inputs['im1'].dim())\n",
    "\n",
    "        # batch_size가 10인 경우\n",
    "        # batch_size = 10\n",
    "        # batch 차원 추가하여 4D로 변환\n",
    "        batch_size = 1\n",
    "        input_data_4d = torch.unsqueeze(inputs['im1'], dim=0).expand(batch_size, -1, -1, -1)\n",
    "        \n",
    "        \n",
    "        outputs = net1(input_data_4d)\n",
    "\n",
    "        \n",
    "        \n",
    "        # processed = self.process(inputs, outputs)\n",
    "        # if self.config['output_desc']:\n",
    "        #     message += self.save_desc(inputs, outputs, processed)\n",
    "        # if self.config['output_img']:\n",
    "        #     message += self.save_imgs(inputs, outputs, processed, idx)\n",
    "        # self.logger.info(message)\n",
    "        # name_list += '{} {}\\n'.format(idx, inputs['name1'][0])\n",
    "        torch.cuda.empty_cache()\n",
    "    # with open(self.img_root/'name_list.txt', 'w') as f:\n",
    "    #     f.write(name_list)"
   ]
  },
  {
   "cell_type": "code",
   "execution_count": 28,
   "id": "29bed85b-e44f-4afb-8804-bf5936cec15d",
   "metadata": {},
   "outputs": [
    {
     "name": "stderr",
     "output_type": "stream",
     "text": [
      "  0%|                                                  | 0/7712 [00:00<?, ?it/s]"
     ]
    },
    {
     "name": "stdout",
     "output_type": "stream",
     "text": [
      "torch.Size([3, 1056, 1600])\n",
      "3\n"
     ]
    },
    {
     "name": "stderr",
     "output_type": "stream",
     "text": [
      "/home/minseong/.local/share/virtualenvs/VL/lib/python3.8/site-packages/torch/nn/functional.py:3779: UserWarning: nn.functional.upsample is deprecated. Use nn.functional.interpolate instead.\n",
      "  warnings.warn(\"nn.functional.upsample is deprecated. Use nn.functional.interpolate instead.\")\n",
      "  0%|                                        | 2/7712 [00:01<1:26:00,  1.49it/s]"
     ]
    },
    {
     "name": "stdout",
     "output_type": "stream",
     "text": [
      "torch.Size([3, 1600, 1056])\n",
      "3\n"
     ]
    },
    {
     "name": "stderr",
     "output_type": "stream",
     "text": [
      "  0%|                                        | 3/7712 [00:01<1:19:22,  1.62it/s]"
     ]
    },
    {
     "name": "stdout",
     "output_type": "stream",
     "text": [
      "torch.Size([3, 1600, 1056])\n",
      "3\n"
     ]
    },
    {
     "name": "stderr",
     "output_type": "stream",
     "text": [
      "  0%|                                        | 4/7712 [00:02<1:16:16,  1.68it/s]"
     ]
    },
    {
     "name": "stdout",
     "output_type": "stream",
     "text": [
      "torch.Size([3, 1600, 1056])\n",
      "3\n"
     ]
    },
    {
     "name": "stderr",
     "output_type": "stream",
     "text": [
      "  0%|                                        | 5/7712 [00:03<1:14:20,  1.73it/s]"
     ]
    },
    {
     "name": "stdout",
     "output_type": "stream",
     "text": [
      "torch.Size([3, 1600, 1056])\n",
      "3\n"
     ]
    },
    {
     "name": "stderr",
     "output_type": "stream",
     "text": [
      "  0%|                                        | 6/7712 [00:03<1:12:24,  1.77it/s]"
     ]
    },
    {
     "name": "stdout",
     "output_type": "stream",
     "text": [
      "torch.Size([3, 1600, 1056])\n",
      "3\n"
     ]
    },
    {
     "name": "stderr",
     "output_type": "stream",
     "text": [
      "  0%|                                        | 7/7712 [00:04<1:11:26,  1.80it/s]"
     ]
    },
    {
     "name": "stdout",
     "output_type": "stream",
     "text": [
      "torch.Size([3, 1600, 1056])\n",
      "3\n"
     ]
    },
    {
     "name": "stderr",
     "output_type": "stream",
     "text": [
      "  0%|                                        | 8/7712 [00:04<1:09:27,  1.85it/s]"
     ]
    },
    {
     "name": "stdout",
     "output_type": "stream",
     "text": [
      "torch.Size([3, 1600, 1056])\n",
      "3\n"
     ]
    },
    {
     "name": "stderr",
     "output_type": "stream",
     "text": [
      "  0%|                                        | 9/7712 [00:05<1:12:24,  1.77it/s]"
     ]
    },
    {
     "name": "stdout",
     "output_type": "stream",
     "text": [
      "torch.Size([3, 1600, 1056])\n",
      "3\n"
     ]
    },
    {
     "name": "stderr",
     "output_type": "stream",
     "text": [
      "  0%|                                       | 10/7712 [00:05<1:10:35,  1.82it/s]"
     ]
    },
    {
     "name": "stdout",
     "output_type": "stream",
     "text": [
      "torch.Size([3, 1600, 1056])\n",
      "3\n"
     ]
    },
    {
     "name": "stderr",
     "output_type": "stream",
     "text": [
      "  0%|                                       | 11/7712 [00:06<1:08:52,  1.86it/s]"
     ]
    },
    {
     "name": "stdout",
     "output_type": "stream",
     "text": [
      "torch.Size([3, 1600, 1056])\n",
      "3\n"
     ]
    },
    {
     "name": "stderr",
     "output_type": "stream",
     "text": [
      "  0%|                                       | 12/7712 [00:06<1:08:08,  1.88it/s]"
     ]
    },
    {
     "name": "stdout",
     "output_type": "stream",
     "text": [
      "torch.Size([3, 1600, 1056])\n",
      "3\n"
     ]
    },
    {
     "name": "stderr",
     "output_type": "stream",
     "text": [
      "  0%|                                       | 13/7712 [00:07<1:07:31,  1.90it/s]"
     ]
    },
    {
     "name": "stdout",
     "output_type": "stream",
     "text": [
      "torch.Size([3, 1600, 1056])\n",
      "3\n"
     ]
    },
    {
     "name": "stderr",
     "output_type": "stream",
     "text": [
      "  0%|                                       | 14/7712 [00:07<1:06:07,  1.94it/s]"
     ]
    },
    {
     "name": "stdout",
     "output_type": "stream",
     "text": [
      "torch.Size([3, 1600, 1056])\n",
      "3\n"
     ]
    },
    {
     "name": "stderr",
     "output_type": "stream",
     "text": [
      "  0%|                                       | 15/7712 [00:08<1:05:26,  1.96it/s]"
     ]
    },
    {
     "name": "stdout",
     "output_type": "stream",
     "text": [
      "torch.Size([3, 1600, 1056])\n",
      "3\n"
     ]
    },
    {
     "name": "stderr",
     "output_type": "stream",
     "text": [
      "  0%|                                       | 16/7712 [00:08<1:04:48,  1.98it/s]"
     ]
    },
    {
     "name": "stdout",
     "output_type": "stream",
     "text": [
      "torch.Size([3, 1600, 1056])\n",
      "3\n"
     ]
    },
    {
     "name": "stderr",
     "output_type": "stream",
     "text": [
      "  0%|                                       | 17/7712 [00:09<1:04:35,  1.99it/s]"
     ]
    },
    {
     "name": "stdout",
     "output_type": "stream",
     "text": [
      "torch.Size([3, 1600, 1056])\n",
      "3\n"
     ]
    },
    {
     "name": "stderr",
     "output_type": "stream",
     "text": [
      "  0%|                                       | 18/7712 [00:09<1:04:32,  1.99it/s]"
     ]
    },
    {
     "name": "stdout",
     "output_type": "stream",
     "text": [
      "torch.Size([3, 1600, 1056])\n",
      "3\n"
     ]
    },
    {
     "name": "stderr",
     "output_type": "stream",
     "text": [
      "  0%|                                       | 19/7712 [00:10<1:10:42,  1.81it/s]"
     ]
    },
    {
     "name": "stdout",
     "output_type": "stream",
     "text": [
      "torch.Size([3, 1600, 1056])\n",
      "3\n"
     ]
    },
    {
     "name": "stderr",
     "output_type": "stream",
     "text": [
      "  0%|                                       | 20/7712 [00:10<1:10:02,  1.83it/s]"
     ]
    },
    {
     "name": "stdout",
     "output_type": "stream",
     "text": [
      "torch.Size([3, 1600, 1056])\n",
      "3\n"
     ]
    },
    {
     "name": "stderr",
     "output_type": "stream",
     "text": [
      "  0%|                                       | 21/7712 [00:11<1:08:58,  1.86it/s]"
     ]
    },
    {
     "name": "stdout",
     "output_type": "stream",
     "text": [
      "torch.Size([3, 1600, 1056])\n",
      "3\n"
     ]
    },
    {
     "name": "stderr",
     "output_type": "stream",
     "text": [
      "  0%|                                       | 22/7712 [00:12<1:08:30,  1.87it/s]"
     ]
    },
    {
     "name": "stdout",
     "output_type": "stream",
     "text": [
      "torch.Size([3, 1600, 1056])\n",
      "3\n"
     ]
    },
    {
     "name": "stderr",
     "output_type": "stream",
     "text": [
      "  0%|                                       | 23/7712 [00:12<1:07:41,  1.89it/s]"
     ]
    },
    {
     "name": "stdout",
     "output_type": "stream",
     "text": [
      "torch.Size([3, 1600, 1056])\n",
      "3\n"
     ]
    },
    {
     "name": "stderr",
     "output_type": "stream",
     "text": [
      "  0%|                                       | 24/7712 [00:13<1:06:25,  1.93it/s]"
     ]
    },
    {
     "name": "stdout",
     "output_type": "stream",
     "text": [
      "torch.Size([3, 1600, 1056])\n",
      "3\n"
     ]
    },
    {
     "name": "stderr",
     "output_type": "stream",
     "text": [
      "  0%|▏                                      | 25/7712 [00:13<1:05:46,  1.95it/s]"
     ]
    },
    {
     "name": "stdout",
     "output_type": "stream",
     "text": [
      "torch.Size([3, 1600, 1056])\n",
      "3\n"
     ]
    },
    {
     "name": "stderr",
     "output_type": "stream",
     "text": [
      "  0%|▏                                      | 26/7712 [00:14<1:05:33,  1.95it/s]"
     ]
    },
    {
     "name": "stdout",
     "output_type": "stream",
     "text": [
      "torch.Size([3, 1600, 1056])\n",
      "3\n"
     ]
    },
    {
     "name": "stderr",
     "output_type": "stream",
     "text": [
      "  0%|▏                                      | 27/7712 [00:14<1:05:56,  1.94it/s]"
     ]
    },
    {
     "name": "stdout",
     "output_type": "stream",
     "text": [
      "torch.Size([3, 1600, 1056])\n",
      "3\n"
     ]
    },
    {
     "name": "stderr",
     "output_type": "stream",
     "text": [
      "  0%|▏                                      | 28/7712 [00:15<1:06:06,  1.94it/s]"
     ]
    },
    {
     "name": "stdout",
     "output_type": "stream",
     "text": [
      "torch.Size([3, 1600, 1056])\n",
      "3\n"
     ]
    },
    {
     "name": "stderr",
     "output_type": "stream",
     "text": [
      "  0%|▏                                      | 29/7712 [00:15<1:11:08,  1.80it/s]"
     ]
    },
    {
     "name": "stdout",
     "output_type": "stream",
     "text": [
      "torch.Size([3, 1600, 1056])\n",
      "3\n"
     ]
    },
    {
     "name": "stderr",
     "output_type": "stream",
     "text": [
      "  0%|▏                                      | 30/7712 [00:16<1:11:18,  1.80it/s]"
     ]
    },
    {
     "name": "stdout",
     "output_type": "stream",
     "text": [
      "torch.Size([3, 1600, 1056])\n",
      "3\n"
     ]
    },
    {
     "name": "stderr",
     "output_type": "stream",
     "text": [
      "  0%|▏                                      | 31/7712 [00:16<1:09:44,  1.84it/s]"
     ]
    },
    {
     "name": "stdout",
     "output_type": "stream",
     "text": [
      "torch.Size([3, 1600, 1056])\n",
      "3\n"
     ]
    },
    {
     "name": "stderr",
     "output_type": "stream",
     "text": [
      "  0%|▏                                      | 31/7712 [00:17<1:11:03,  1.80it/s]\n"
     ]
    },
    {
     "ename": "KeyboardInterrupt",
     "evalue": "",
     "output_type": "error",
     "traceback": [
      "\u001b[0;31m---------------------------------------------------------------------------\u001b[0m",
      "\u001b[0;31mKeyboardInterrupt\u001b[0m                         Traceback (most recent call last)",
      "Cell \u001b[0;32mIn[28], line 1\u001b[0m\n\u001b[0;32m----> 1\u001b[0m \u001b[43mextractor\u001b[49m\u001b[43m(\u001b[49m\u001b[43m)\u001b[49m\n",
      "Cell \u001b[0;32mIn[27], line 10\u001b[0m, in \u001b[0;36mextractor\u001b[0;34m()\u001b[0m\n\u001b[1;32m      7\u001b[0m color\u001b[38;5;241m.\u001b[39msave(\u001b[38;5;124m'\u001b[39m\u001b[38;5;124mimg_file/0_colorbar.jpg\u001b[39m\u001b[38;5;124m'\u001b[39m)\n\u001b[1;32m      8\u001b[0m name_list \u001b[38;5;241m=\u001b[39m \u001b[38;5;124m'\u001b[39m\u001b[38;5;124m'\u001b[39m\n\u001b[0;32m---> 10\u001b[0m \u001b[38;5;28;01mfor\u001b[39;00m idx, inputs \u001b[38;5;129;01min\u001b[39;00m \u001b[38;5;28menumerate\u001b[39m(bar):\n\u001b[1;32m     11\u001b[0m     \u001b[38;5;28;01mfor\u001b[39;00m key, val \u001b[38;5;129;01min\u001b[39;00m inputs\u001b[38;5;241m.\u001b[39mitems():\n\u001b[1;32m     12\u001b[0m         \u001b[38;5;28;01mif\u001b[39;00m key \u001b[38;5;241m==\u001b[39m \u001b[38;5;124m'\u001b[39m\u001b[38;5;124mname1\u001b[39m\u001b[38;5;124m'\u001b[39m \u001b[38;5;129;01mor\u001b[39;00m key \u001b[38;5;241m==\u001b[39m \u001b[38;5;124m'\u001b[39m\u001b[38;5;124mpad1\u001b[39m\u001b[38;5;124m'\u001b[39m:\n",
      "File \u001b[0;32m~/.local/share/virtualenvs/VL/lib/python3.8/site-packages/tqdm/std.py:1178\u001b[0m, in \u001b[0;36mtqdm.__iter__\u001b[0;34m(self)\u001b[0m\n\u001b[1;32m   1175\u001b[0m time \u001b[38;5;241m=\u001b[39m \u001b[38;5;28mself\u001b[39m\u001b[38;5;241m.\u001b[39m_time\n\u001b[1;32m   1177\u001b[0m \u001b[38;5;28;01mtry\u001b[39;00m:\n\u001b[0;32m-> 1178\u001b[0m     \u001b[38;5;28;01mfor\u001b[39;00m obj \u001b[38;5;129;01min\u001b[39;00m iterable:\n\u001b[1;32m   1179\u001b[0m         \u001b[38;5;28;01myield\u001b[39;00m obj\n\u001b[1;32m   1180\u001b[0m         \u001b[38;5;66;03m# Update and possibly print the progressbar.\u001b[39;00m\n\u001b[1;32m   1181\u001b[0m         \u001b[38;5;66;03m# Note: does not call self.update(1) for speed optimisation.\u001b[39;00m\n",
      "File \u001b[0;32m/mnt/hdd4T/minseong/github/VL-matching-localization-pipeline/my_pipeline/dataloader/aachen_loader.py:65\u001b[0m, in \u001b[0;36mAachen_Day_Night.__getitem__\u001b[0;34m(self, item)\u001b[0m\n\u001b[1;32m     63\u001b[0m im \u001b[38;5;241m=\u001b[39m im[:h\u001b[38;5;241m-\u001b[39mcrop_b,:w\u001b[38;5;241m-\u001b[39mcrop_r,:]\n\u001b[1;32m     64\u001b[0m gray \u001b[38;5;241m=\u001b[39m cv2\u001b[38;5;241m.\u001b[39mcvtColor(im, cv2\u001b[38;5;241m.\u001b[39mCOLOR_RGB2GRAY)\n\u001b[0;32m---> 65\u001b[0m kpts \u001b[38;5;241m=\u001b[39m \u001b[38;5;28;43mself\u001b[39;49m\u001b[38;5;241;43m.\u001b[39;49m\u001b[43msift\u001b[49m\u001b[38;5;241;43m.\u001b[39;49m\u001b[43mdetect\u001b[49m\u001b[43m(\u001b[49m\u001b[43mgray\u001b[49m\u001b[43m)\u001b[49m\n\u001b[1;32m     66\u001b[0m kpts \u001b[38;5;241m=\u001b[39m np\u001b[38;5;241m.\u001b[39marray([[kp\u001b[38;5;241m.\u001b[39mpt[\u001b[38;5;241m0\u001b[39m], kp\u001b[38;5;241m.\u001b[39mpt[\u001b[38;5;241m1\u001b[39m]] \u001b[38;5;28;01mfor\u001b[39;00m kp \u001b[38;5;129;01min\u001b[39;00m kpts])\n\u001b[1;32m     67\u001b[0m coord \u001b[38;5;241m=\u001b[39m torch\u001b[38;5;241m.\u001b[39mfrom_numpy(kpts)\u001b[38;5;241m.\u001b[39mfloat()\n",
      "\u001b[0;31mKeyboardInterrupt\u001b[0m: "
     ]
    }
   ],
   "source": [
    "extractor()"
   ]
  },
  {
   "cell_type": "code",
   "execution_count": null,
   "id": "7a77bfff-968a-4348-8139-86ee89fe40e7",
   "metadata": {},
   "outputs": [],
   "source": []
  }
 ],
 "metadata": {
  "kernelspec": {
   "display_name": "Python 3 (ipykernel)",
   "language": "python",
   "name": "python3"
  },
  "language_info": {
   "codemirror_mode": {
    "name": "ipython",
    "version": 3
   },
   "file_extension": ".py",
   "mimetype": "text/x-python",
   "name": "python",
   "nbconvert_exporter": "python",
   "pygments_lexer": "ipython3",
   "version": "3.8.10"
  }
 },
 "nbformat": 4,
 "nbformat_minor": 5
}
